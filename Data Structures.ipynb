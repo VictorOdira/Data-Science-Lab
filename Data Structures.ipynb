{
 "cells": [
  {
   "cell_type": "markdown",
   "id": "a04e27fa-ce9f-494a-a25e-cccb824448d1",
   "metadata": {},
   "source": [
    "## PYTHON DATA STRUCTURES "
   ]
  },
  {
   "cell_type": "markdown",
   "id": "c4747e8d-70cb-4915-ae38-cf4aff91963f",
   "metadata": {},
   "source": [
    "### Working with Lists"
   ]
  },
  {
   "cell_type": "code",
   "execution_count": 1,
   "id": "430105b6-37ff-4e17-8b98-47778d3df31c",
   "metadata": {},
   "outputs": [
    {
     "name": "stdout",
     "output_type": "stream",
     "text": [
      "Object Type of House: <class 'list'>\n",
      "Length of House: 3\n"
     ]
    },
    {
     "data": {
      "text/plain": [
       "[115910.5, 128, 4]"
      ]
     },
     "execution_count": 1,
     "metadata": {},
     "output_type": "execute_result"
    }
   ],
   "source": [
    "house = [115910.50, 128, 4]\n",
    "print(\"Object Type of House:\", type(house))\n",
    "print(\"Length of House:\", len(house))\n",
    "house"
   ]
  },
  {
   "cell_type": "code",
   "execution_count": 3,
   "id": "31c49e07-4781-4d33-a365-ece70353a39a",
   "metadata": {},
   "outputs": [],
   "source": [
    "houses = [\n",
    "    [115910.26, 128.0, 4.0],\n",
    "    [48718.17, 210.0, 3.0],\n",
    "    [28977.56, 58.0, 2.0],\n",
    "    [36932.27, 79.0, 3.0],\n",
    "    [83903.51, 111.0, 3.0],\n",
    "]"
   ]
  },
  {
   "cell_type": "code",
   "execution_count": 5,
   "id": "634c07c6-e941-4644-a857-225db6fe56b4",
   "metadata": {},
   "outputs": [
    {
     "name": "stdout",
     "output_type": "stream",
     "text": [
      "House 1 Price: 115910.26\n",
      "House 1 Area: 128.0\n",
      "House 1 Price per Square Metre: 905.55\n",
      "______________________________________\n",
      "House 2 Price: 48718.17\n",
      "House 2 Area: 210.0\n",
      "House 2 Price per Square Metre: 231.99\n",
      "______________________________________\n",
      "House 3 Price: 28977.56\n",
      "House 3 Area: 58.0\n",
      "House 3 Price per Square Metre: 499.61\n",
      "______________________________________\n",
      "House 4 Price: 36932.27\n",
      "House 4 Area: 79.0\n",
      "House 4 Price per Square Metre: 467.5\n",
      "______________________________________\n",
      "House 5 Price: 83903.51\n",
      "House 5 Area: 111.0\n",
      "House 5 Price per Square Metre: 755.89\n",
      "______________________________________\n"
     ]
    }
   ],
   "source": [
    "for index, house in enumerate(houses):\n",
    "    house_price = house[0]\n",
    "    print(f\"House {index + 1} Price: {house_price}\")\n",
    "    house_area = house[1]\n",
    "    print(f\"House {index + 1} Area: {house_area}\")\n",
    "    price_per_m2 = round(house_price / house_area, 2)\n",
    "    print(f\"House {index + 1} Price per Square Metre: {price_per_m2}\")\n",
    "    print(\"_\" * 38)"
   ]
  },
  {
   "cell_type": "code",
   "execution_count": 7,
   "id": "e0cc0d85-1212-4754-9978-1508175ec49d",
   "metadata": {},
   "outputs": [
    {
     "data": {
      "text/plain": [
       "[[115910.26, 128.0, 4.0, 905.55],\n",
       " [48718.17, 210.0, 3.0, 231.99],\n",
       " [28977.56, 58.0, 2.0, 499.61],\n",
       " [36932.27, 79.0, 3.0, 467.5],\n",
       " [83903.51, 111.0, 3.0, 755.89]]"
      ]
     },
     "execution_count": 7,
     "metadata": {},
     "output_type": "execute_result"
    }
   ],
   "source": [
    "for house in houses:\n",
    "    price_per_m2 = round(house[0] / house[1], 2)\n",
    "    house.append(price_per_m2)\n",
    "houses"
   ]
  },
  {
   "cell_type": "markdown",
   "id": "05b36cd8-b8ce-489e-8743-f673629f9759",
   "metadata": {},
   "source": [
    "### Working with Dictionaries "
   ]
  },
  {
   "cell_type": "code",
   "execution_count": 9,
   "id": "5ff375a3-e99c-40ef-acc2-edad440a67e9",
   "metadata": {},
   "outputs": [],
   "source": [
    "one_house = {\n",
    "    \"price_approx_usd\": 115910.26,\n",
    "    \"surface_covered_in_m2\": 128,\n",
    "    \"rooms\": 4,\n",
    "}"
   ]
  },
  {
   "cell_type": "code",
   "execution_count": 11,
   "id": "0530b8e6-11ad-4bab-8af7-795fe5e841e6",
   "metadata": {},
   "outputs": [
    {
     "name": "stdout",
     "output_type": "stream",
     "text": [
      "House Particulars\n",
      "------------------------------\n",
      "House Total Value: 115910.26\n",
      "House Total Area: 128\n",
      "No. of Rooms: 4\n",
      "House Value Per Sq. Metre: 905.55\n"
     ]
    }
   ],
   "source": [
    "print(\"House Particulars\")\n",
    "print(\"-\"*30)\n",
    "print(f\"House Total Value: {one_house[\"price_approx_usd\"]}\")\n",
    "print(f\"House Total Area: {one_house[\"surface_covered_in_m2\"]}\")\n",
    "print(f\"No. of Rooms: {one_house[\"rooms\"]}\")\n",
    "print(f\"House Value Per Sq. Metre: {round(one_house[\"price_approx_usd\"] / one_house[\"surface_covered_in_m2\"], 2)}\")"
   ]
  },
  {
   "cell_type": "code",
   "execution_count": null,
   "id": "8effb8ce-a4de-48bf-9a81-5c16b17a74f7",
   "metadata": {},
   "outputs": [],
   "source": [
    "one_house[\"price_per_m2\"] = round(one_house[\"price_approx_usd\"] / one_house[\"surface_covered_in_m2\"], 2)\n",
    "one_house"
   ]
  },
  {
   "cell_type": "code",
   "execution_count": 13,
   "id": "044a739f-834c-49c4-a2eb-ce2973f28e7e",
   "metadata": {},
   "outputs": [],
   "source": [
    "houses_rowwise = [\n",
    "    {\n",
    "        \"price_approx_usd\": 115910.26,\n",
    "        \"surface_covered_in_m2\": 128,\n",
    "        \"rooms\": 4,\n",
    "    },\n",
    "    {\n",
    "        \"price_approx_usd\": 48718.17,\n",
    "        \"surface_covered_in_m2\": 210,\n",
    "        \"rooms\": 3,\n",
    "    },\n",
    "    {\n",
    "        \"price_approx_usd\": 28977.56,\n",
    "        \"surface_covered_in_m2\": 58,\n",
    "        \"rooms\": 2,\n",
    "    },\n",
    "    {\n",
    "        \"price_approx_usd\": 36932.27,\n",
    "        \"surface_covered_in_m2\": 79,\n",
    "        \"rooms\": 3,\n",
    "    },\n",
    "    {\n",
    "        \"price_approx_usd\": 83903.51,\n",
    "        \"surface_covered_in_m2\": 111,\n",
    "        \"rooms\": 3,\n",
    "    },\n",
    "]"
   ]
  },
  {
   "cell_type": "code",
   "execution_count": 15,
   "id": "a8a268d6-a817-4141-82e9-d858d88334db",
   "metadata": {},
   "outputs": [
    {
     "name": "stdout",
     "output_type": "stream",
     "text": [
      "Particulars of Each House\n",
      "House 1 value: US$115910.26\n",
      "House 1 area in Sq. Metre: 128\n",
      "House 1: 4 rooms\n",
      "House 1 price per Sq. Metre: US$905.55\n",
      "______________________________________\n",
      "House 2 value: US$48718.17\n",
      "House 2 area in Sq. Metre: 210\n",
      "House 2: 3 rooms\n",
      "House 2 price per Sq. Metre: US$231.99\n",
      "______________________________________\n",
      "House 3 value: US$28977.56\n",
      "House 3 area in Sq. Metre: 58\n",
      "House 3: 2 rooms\n",
      "House 3 price per Sq. Metre: US$499.61\n",
      "______________________________________\n",
      "House 4 value: US$36932.27\n",
      "House 4 area in Sq. Metre: 79\n",
      "House 4: 3 rooms\n",
      "House 4 price per Sq. Metre: US$467.5\n",
      "______________________________________\n",
      "House 5 value: US$83903.51\n",
      "House 5 area in Sq. Metre: 111\n",
      "House 5: 3 rooms\n",
      "House 5 price per Sq. Metre: US$755.89\n",
      "______________________________________\n"
     ]
    }
   ],
   "source": [
    "print(f\"Particulars of Each House\")\n",
    "for index, house in enumerate(houses_rowwise):\n",
    "    print(f\"House {index + 1} value: US${house[\"price_approx_usd\"]}\")\n",
    "    print(f\"House {index + 1} area in Sq. Metre: {house[\"surface_covered_in_m2\"]}\")\n",
    "    print(f\"House {index + 1}: {house[\"rooms\"]} rooms\")\n",
    "    print(f\"House {index + 1} price per Sq. Metre: US${round(house[\"price_approx_usd\"] / house[\"surface_covered_in_m2\"], 2)}\")\n",
    "    print(\"_\"*38)"
   ]
  },
  {
   "cell_type": "code",
   "execution_count": null,
   "id": "fa4d3e08-bf2a-40dd-be1a-db1ed57e70b8",
   "metadata": {},
   "outputs": [],
   "source": [
    "for house in houses_rowwise:\n",
    "    price_per_m2 = round(house[\"price_approx_usd\"] / house[\"surface_covered_in_m2\"], 2)\n",
    "    house[\"price_per_m2\"] = price_per_m2\n",
    "houses_rowwise"
   ]
  },
  {
   "cell_type": "code",
   "execution_count": 17,
   "id": "ead88268-80f0-42dd-ac37-d1c30d4b153a",
   "metadata": {},
   "outputs": [
    {
     "name": "stdout",
     "output_type": "stream",
     "text": [
      "mean_house_price type: <class 'float'>\n"
     ]
    },
    {
     "data": {
      "text/plain": [
       "62888.35"
      ]
     },
     "execution_count": 17,
     "metadata": {},
     "output_type": "execute_result"
    }
   ],
   "source": [
    "house_prices = []\n",
    "for house in houses_rowwise:\n",
    "    house_prices.append(house[\"price_approx_usd\"])\n",
    "    house_prices\n",
    "mean_house_price = round(sum(house_prices) / len(house_prices),2)\n",
    "print(\"mean_house_price type:\", type(mean_house_price))\n",
    "mean_house_price"
   ]
  },
  {
   "cell_type": "code",
   "execution_count": 19,
   "id": "b4a81076-ac11-43d0-9880-6d31e6075b59",
   "metadata": {},
   "outputs": [],
   "source": [
    "houses_columnwise = {\n",
    "    \"price_approx_usd\": [115910.26, 48718.17, 28977.56, 36932.27, 83903.51],\n",
    "    \"surface_covered_in_m2\": [128.0, 210.0, 58.0, 79.0, 111.0],\n",
    "    \"rooms\": [4.0, 3.0, 2.0, 3.0, 3.0],\n",
    "}"
   ]
  },
  {
   "cell_type": "code",
   "execution_count": 21,
   "id": "ff507f2d-0c75-400f-b325-c698440121c1",
   "metadata": {},
   "outputs": [
    {
     "name": "stdout",
     "output_type": "stream",
     "text": [
      "Particulars of Each House\n",
      "----------------------------------------\n",
      "House 1 value: USD 115910.26\n",
      "House 1 area: 128.0 m²\n",
      "House 1 has: 4 rooms\n",
      "----------------------------------------\n",
      "House 2 value: USD 48718.17\n",
      "House 2 area: 210.0 m²\n",
      "House 2 has: 3 rooms\n",
      "----------------------------------------\n",
      "House 3 value: USD 28977.56\n",
      "House 3 area: 58.0 m²\n",
      "House 3 has: 2 rooms\n",
      "----------------------------------------\n",
      "House 4 value: USD 36932.27\n",
      "House 4 area: 79.0 m²\n",
      "House 4 has: 3 rooms\n",
      "----------------------------------------\n",
      "House 5 value: USD 83903.51\n",
      "House 5 area: 111.0 m²\n",
      "House 5 has: 3 rooms\n",
      "----------------------------------------\n",
      "\n",
      "Price per Square Metre:\n",
      "House 1 Price per m²: USD 905.55\n",
      "House 2 Price per m²: USD 231.99\n",
      "House 3 Price per m²: USD 499.61\n",
      "House 4 Price per m²: USD 467.50\n",
      "House 5 Price per m²: USD 755.89\n"
     ]
    }
   ],
   "source": [
    "print(f\"Particulars of Each House\")\n",
    "print(\"-\" * 40)\n",
    "\n",
    "num_houses = len(houses_columnwise[\"price_approx_usd\"])\n",
    "for index in range(num_houses):\n",
    "    price = houses_columnwise[\"price_approx_usd\"][index]\n",
    "    area = houses_columnwise[\"surface_covered_in_m2\"][index]\n",
    "    rooms = houses_columnwise[\"rooms\"][index]\n",
    "\n",
    "    print(f\"House {index + 1} value: USD {price:.2f}\") \n",
    "    print(f\"House {index + 1} area: {area} m²\")\n",
    "    print(f\"House {index + 1} has: {int(rooms)} rooms\") \n",
    "    print(\"-\" * 40)\n",
    "\n",
    "price_per_m2 = []\n",
    "for p, a in zip(houses_columnwise[\"price_approx_usd\"], houses_columnwise[\"surface_covered_in_m2\"]):\n",
    "    price_m2 = p / a\n",
    "    price_per_m2.append(price_m2)\n",
    "\n",
    "houses_columnwise[\"price_per_m2\"] = price_per_m2\n",
    "\n",
    "print(\"\\nPrice per Square Metre:\")\n",
    "for index, price_m2_val in enumerate(houses_columnwise[\"price_per_m2\"]):\n",
    "    print(f\"House {index + 1} Price per m²: USD {price_m2_val:.2f}\")"
   ]
  },
  {
   "cell_type": "code",
   "execution_count": 29,
   "id": "d8bcddae-994f-4cd7-9fa8-7628a9f6f66d",
   "metadata": {},
   "outputs": [
    {
     "data": {
      "text/html": [
       "<div>\n",
       "<style scoped>\n",
       "    .dataframe tbody tr th:only-of-type {\n",
       "        vertical-align: middle;\n",
       "    }\n",
       "\n",
       "    .dataframe tbody tr th {\n",
       "        vertical-align: top;\n",
       "    }\n",
       "\n",
       "    .dataframe thead th {\n",
       "        text-align: right;\n",
       "    }\n",
       "</style>\n",
       "<table border=\"1\" class=\"dataframe\">\n",
       "  <thead>\n",
       "    <tr style=\"text-align: right;\">\n",
       "      <th></th>\n",
       "      <th>price_approx_usd</th>\n",
       "      <th>surface_covered_in_m2</th>\n",
       "      <th>rooms</th>\n",
       "    </tr>\n",
       "    <tr>\n",
       "      <th>house</th>\n",
       "      <th></th>\n",
       "      <th></th>\n",
       "      <th></th>\n",
       "    </tr>\n",
       "  </thead>\n",
       "  <tbody>\n",
       "    <tr>\n",
       "      <th>House 1</th>\n",
       "      <td>115910.26</td>\n",
       "      <td>128.0</td>\n",
       "      <td>4.0</td>\n",
       "    </tr>\n",
       "    <tr>\n",
       "      <th>House 2</th>\n",
       "      <td>48718.17</td>\n",
       "      <td>210.0</td>\n",
       "      <td>3.0</td>\n",
       "    </tr>\n",
       "    <tr>\n",
       "      <th>House 3</th>\n",
       "      <td>28977.56</td>\n",
       "      <td>58.0</td>\n",
       "      <td>2.0</td>\n",
       "    </tr>\n",
       "    <tr>\n",
       "      <th>House 4</th>\n",
       "      <td>36932.27</td>\n",
       "      <td>79.0</td>\n",
       "      <td>3.0</td>\n",
       "    </tr>\n",
       "    <tr>\n",
       "      <th>House 5</th>\n",
       "      <td>83903.51</td>\n",
       "      <td>111.0</td>\n",
       "      <td>3.0</td>\n",
       "    </tr>\n",
       "  </tbody>\n",
       "</table>\n",
       "</div>"
      ],
      "text/plain": [
       "         price_approx_usd  surface_covered_in_m2  rooms\n",
       "house                                                  \n",
       "House 1         115910.26                  128.0    4.0\n",
       "House 2          48718.17                  210.0    3.0\n",
       "House 3          28977.56                   58.0    2.0\n",
       "House 4          36932.27                   79.0    3.0\n",
       "House 5          83903.51                  111.0    3.0"
      ]
     },
     "execution_count": 29,
     "metadata": {},
     "output_type": "execute_result"
    }
   ],
   "source": [
    "houses_columnwise = {\n",
    "    \"price_approx_usd\": [115910.26, 48718.17, 28977.56, 36932.27, 83903.51],\n",
    "    \"surface_covered_in_m2\": [128.0, 210.0, 58.0, 79.0, 111.0],\n",
    "    \"rooms\": [4.0, 3.0, 2.0, 3.0, 3.0],\n",
    "    \"house\": [\"House 1\", \"House 2\", \"House 3\", \"House 4\", \"House 5\"],\n",
    "}\n",
    "\n",
    "import pandas as pd\n",
    "df_houses = pd.DataFrame(houses_columnwise)\n",
    "df_houses = df_houses.set_index(\"house\")\n",
    "df_houses"
   ]
  },
  {
   "cell_type": "code",
   "execution_count": null,
   "id": "98416793-47a8-4d08-aaf6-37f9f7f8948e",
   "metadata": {},
   "outputs": [],
   "source": []
  }
 ],
 "metadata": {
  "kernelspec": {
   "display_name": "Python 3 (ipykernel)",
   "language": "python",
   "name": "python3"
  },
  "language_info": {
   "codemirror_mode": {
    "name": "ipython",
    "version": 3
   },
   "file_extension": ".py",
   "mimetype": "text/x-python",
   "name": "python",
   "nbconvert_exporter": "python",
   "pygments_lexer": "ipython3",
   "version": "3.12.7"
  }
 },
 "nbformat": 4,
 "nbformat_minor": 5
}
